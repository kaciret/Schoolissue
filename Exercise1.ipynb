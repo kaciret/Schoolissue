{
 "cells": [
  {
   "cell_type": "markdown",
   "metadata": {},
   "source": [
    "1.Crea una clase Coche con atributos como marca, modelo, y año. Define un método llamado mostrar_info que imprima la información del coche. Luego, crea dos objetos de la clase Coche y muestra la información de cada uno.\n"
   ]
  },
  {
   "cell_type": "code",
   "execution_count": null,
   "metadata": {},
   "outputs": [],
   "source": [
    "class car:\n",
    "    def __init__(self, marca, modelo, año) -> None:\n",
    "        self.marca=marca\n",
    "        self.modelo=modelo\n",
    "        self.año=año\n",
    "        \n",
    "    def show_info(self):\n",
    "        print(f\"Marca: {self.marca} \\nModelo: {self.modelo} \\nAño: {self.año}\")\n",
    "car1= car(\"Volkswagen\", \"T40\", \"1992\")\n",
    "car1.show_info()"
   ]
  },
  {
   "cell_type": "markdown",
   "metadata": {},
   "source": [
    "2.Crea una clase base Animal con un método llamado hablar. Luego, crea dos clases derivadas, Perro y Gato, que sobrescriban el método hablar para que el perro diga \"Guau\" y el gato diga \"Miau\"."
   ]
  },
  {
   "cell_type": "code",
   "execution_count": 22,
   "metadata": {},
   "outputs": [
    {
     "name": "stdout",
     "output_type": "stream",
     "text": [
      "Im a cat Miau\n",
      "Im a dog Guau\n"
     ]
    }
   ],
   "source": [
    "class animal:\n",
    "    def __init__(self, talk):\n",
    "        self.talk = talk\n",
    "        \n",
    "class cat:\n",
    "    def __init__(self, talk):\n",
    "        self.talk = talk\n",
    "        \n",
    "    def show_talk(self):\n",
    "        print(f\"Im a cat {self.talk}\")\n",
    "        \n",
    "class dog:\n",
    "    def __init__(self, talk):\n",
    "        self.talk = talk\n",
    "        \n",
    "    def show_talk(self):\n",
    "        print(f\"Im a dog {self.talk}\")\n",
    "        \n",
    "cat1 = cat(\"Miau\")\n",
    "dog1 = dog(\"Guau\")\n",
    "\n",
    "animals = [cat1, dog1]\n",
    "\n",
    "for animal in animals:\n",
    "    animal.show_talk()\n"
   ]
  },
  {
   "cell_type": "markdown",
   "metadata": {},
   "source": [
    "3.Crea una función que reciba un objeto de la clase Animal y llame al método hablar. Usa la misma función para un Perro y un Gato."
   ]
  },
  {
   "cell_type": "code",
   "execution_count": 24,
   "metadata": {},
   "outputs": [
    {
     "name": "stdout",
     "output_type": "stream",
     "text": [
      "Im a cat Miau.\n",
      "*Its a Cat\n",
      "Im a dog Guau.\n",
      "*Its a Dog\n"
     ]
    }
   ],
   "source": [
    "class animal:\n",
    "    def __init__(self, talk, type):\n",
    "        self.talk = talk\n",
    "        self.type = type\n",
    "        \n",
    "class cat:\n",
    "    def __init__(self, talk, type):\n",
    "        self.talk = talk\n",
    "        self.type = type\n",
    "                \n",
    "    def show_talk(self):\n",
    "        print(f\"Im a cat {self.talk}.\\n*Its a {self.type}\")\n",
    "        \n",
    "class dog:\n",
    "    def __init__(self, talk, type):\n",
    "        self.talk = talk\n",
    "        self.type = type\n",
    "                \n",
    "    def show_talk(self):\n",
    "        print(f\"Im a dog {self.talk}.\\n*Its a {self.type}\")\n",
    "        \n",
    "cat1 = cat(\"Miau\",\"Cat\")\n",
    "dog1 = dog(\"Guau\",\"Dog\")\n",
    "\n",
    "animals = [cat1, dog1]\n",
    "\n",
    "for animal in animals:\n",
    "    animal.show_talk()"
   ]
  },
  {
   "cell_type": "markdown",
   "metadata": {},
   "source": [
    "4. Crea una clase CuentaBancaria con un atributo privado saldo. Define métodos para depositar y retirar dinero, asegurándote de que el saldo no pueda ser modificado directamente desde fuera de la clase."
   ]
  },
  {
   "cell_type": "code",
   "execution_count": 26,
   "metadata": {},
   "outputs": [
    {
     "name": "stdout",
     "output_type": "stream",
     "text": [
      "Paco con saldo de 2000, quiere depositar dinero\n"
     ]
    }
   ],
   "source": [
    "class bankacount:\n",
    "    def __init__(self, user, saldo):\n",
    "        self.user = user\n",
    "        self.__saldo = saldo\n",
    "    def depositar(self):\n",
    "        print(f\"{self.user} con saldo de {self.__saldo}, quiere depositar dinero\")\n",
    "    def retirar (self):\n",
    "        print (f\"{self.user} con saldo de {self.__saldo}, quiere retirar dinero\")\n",
    "user1 = bankacount(\"Paco\", 2000)\n",
    "\n",
    "action = input(\"Depositar (D) / Retirar (R)\")\n",
    "\n",
    "if action == \"D\":\n",
    "    user1.depositar()\n",
    "elif action == \"R\":\n",
    "    user1.retirar()\n",
    "else:\n",
    "    print(\"No action\")"
   ]
  },
  {
   "cell_type": "markdown",
   "metadata": {},
   "source": [
    "5.Crea una clase Libro que contenga un título, autor y año de publicación. Crea un método que permita al usuario modificar el título, asegurándote de que no puede modificarlo directamente desde fuera de la clase."
   ]
  },
  {
   "cell_type": "code",
   "execution_count": 33,
   "metadata": {},
   "outputs": [
    {
     "name": "stdout",
     "output_type": "stream",
     "text": [
      "Libro: Hola \n",
      "Author: Dross\n",
      " Year:2015\n"
     ]
    }
   ],
   "source": [
    "class Book:\n",
    "    def __init__ (self, title, author, year):\n",
    "        self.__title = title\n",
    "        self.author = author\n",
    "        self.year = year\n",
    "    def change(self):\n",
    "        title = str (input(f\"Introduce el nombre del libro del autor {self.author}\"))\n",
    "        print(f\"Libro: {title} \\nAuthor: {self.author}\\n Year:{self.year}\")\n",
    "book1 = Book(\"[NOT FOUND]\",\"Dross\",\"2015\")\n",
    "\n",
    "book1.change()"
   ]
  }
 ],
 "metadata": {
  "kernelspec": {
   "display_name": "Python 3",
   "language": "python",
   "name": "python3"
  },
  "language_info": {
   "codemirror_mode": {
    "name": "ipython",
    "version": 3
   },
   "file_extension": ".py",
   "mimetype": "text/x-python",
   "name": "python",
   "nbconvert_exporter": "python",
   "pygments_lexer": "ipython3",
   "version": "3.12.5"
  }
 },
 "nbformat": 4,
 "nbformat_minor": 2
}
